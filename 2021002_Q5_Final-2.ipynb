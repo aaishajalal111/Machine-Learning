{
  "nbformat": 4,
  "nbformat_minor": 0,
  "metadata": {
    "colab": {
      "provenance": []
    },
    "kernelspec": {
      "name": "python3",
      "display_name": "Python 3"
    },
    "language_info": {
      "name": "python"
    }
  },
  "cells": [
    {
      "cell_type": "code",
      "execution_count": 1,
      "metadata": {
        "id": "7audIPxc5qRW"
      },
      "outputs": [],
      "source": [
        "import pandas as pd\n",
        "from sklearn.feature_extraction.text import CountVectorizer\n",
        "from sklearn.preprocessing import normalize\n",
        "from sklearn.cluster import KMeans"
      ]
    },
    {
      "cell_type": "code",
      "source": [
        "# Load the dataset from CSV\n",
        "data = pd.read_excel('/content/chatgpt1-3.xlsx') \n",
        "df = data.head(1000)"
      ],
      "metadata": {
        "id": "IpxYdKBx5zvQ"
      },
      "execution_count": 2,
      "outputs": []
    },
    {
      "cell_type": "code",
      "source": [
        "# Data Preprocessing\n",
        "df = df.dropna(subset=['Text', 'hashtag']) "
      ],
      "metadata": {
        "id": "RHkP5Ug26M4N"
      },
      "execution_count": 4,
      "outputs": []
    },
    {
      "cell_type": "code",
      "source": [
        "# Extract hashtags from tweet text\n",
        "df['hashtag'] = df['Text'].str.findall(r'#\\w+')"
      ],
      "metadata": {
        "id": "ns2sGjhR6S2p"
      },
      "execution_count": 5,
      "outputs": []
    },
    {
      "cell_type": "code",
      "source": [
        "# Count the frequency of each hashtag in the dataset\n",
        "hashtags_freq = pd.Series([x for y in df['hashtag'] for x in y]).value_counts()"
      ],
      "metadata": {
        "id": "zUQkJdp96Zb4"
      },
      "execution_count": 6,
      "outputs": []
    },
    {
      "cell_type": "code",
      "source": [
        "# Create a feature matrix\n",
        "vectorizer = CountVectorizer(token_pattern=r'#\\w+')\n",
        "X = vectorizer.fit_transform(df['Text'])\n",
        "X = X.toarray()\n",
        "X = normalize(X, axis=1)"
      ],
      "metadata": {
        "id": "Uc3EOKCY6chm"
      },
      "execution_count": 7,
      "outputs": []
    },
    {
      "cell_type": "code",
      "source": [
        "# Train a K-means clustering model\n",
        "k = 5  # Number of clusters\n",
        "kmeans = KMeans(n_clusters=k)\n",
        "kmeans.fit(X)\n",
        "\n",
        "# Analyze the clusters\n",
        "for i in range(k):\n",
        "    cluster_tweets = df[kmeans.labels_ == i]\n",
        "    cluster_hashtags = pd.Series([x for y in cluster_tweets['hashtag'] for x in y])\n",
        "    common_hashtags = cluster_hashtags.value_counts().head(10)\n",
        "    print(f\"Cluster {i+1} common hashtags: {', '.join(common_hashtags.index)}\")"
      ],
      "metadata": {
        "colab": {
          "base_uri": "https://localhost:8080/"
        },
        "id": "-q78Cu-U6fy3",
        "outputId": "1bfa6583-7fd6-46e0-edc9-bd695ea726ad"
      },
      "execution_count": 9,
      "outputs": [
        {
          "output_type": "stream",
          "name": "stderr",
          "text": [
            "/usr/local/lib/python3.10/dist-packages/sklearn/cluster/_kmeans.py:870: FutureWarning: The default value of `n_init` will change from 10 to 'auto' in 1.4. Set the value of `n_init` explicitly to suppress the warning\n",
            "  warnings.warn(\n"
          ]
        },
        {
          "output_type": "stream",
          "name": "stdout",
          "text": [
            "Cluster 1 common hashtags: #ArtificialIntelligence, #bigdata, #AI, #ChatGPT, #ç, #ãƒ, #DataScience, #Analytics, #SEO, #note\n",
            "Cluster 2 common hashtags: #ChatGPT, #chatgpt, #chatGPT, #ArtificialIntelligence, #IntelligenceArtificielle, #Ú, #teacher, #ChatGpt, #web3, #PR\n",
            "Cluster 3 common hashtags: #Tech, #technology, #tech, #NewsFlash, #Technology, #Bot, #News, #ChatGPT, #Awesome5G, #internet\n",
            "Cluster 4 common hashtags: #ChatGPT, #OpenAI, #chatgpt, #openai, #openAI, #gpt, #succÃ, #disruption, #chatGPT, #template\n",
            "Cluster 5 common hashtags: #AI, #ChatGPT, #chatgpt, #ai, #GPT3, #GenerativeAI, #gptreport, #Blogging, #Google, #AIFuture\n"
          ]
        }
      ]
    },
    {
      "cell_type": "code",
      "source": [],
      "metadata": {
        "id": "K2GtX_m46nn8"
      },
      "execution_count": null,
      "outputs": []
    }
  ]
}