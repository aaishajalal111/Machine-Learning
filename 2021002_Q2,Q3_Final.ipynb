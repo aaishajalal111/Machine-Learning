{
  "nbformat": 4,
  "nbformat_minor": 0,
  "metadata": {
    "colab": {
      "provenance": [],
      "gpuType": "T4"
    },
    "kernelspec": {
      "name": "python3",
      "display_name": "Python 3"
    },
    "language_info": {
      "name": "python"
    },
    "accelerator": "GPU",
    "gpuClass": "standard"
  },
  "cells": [
    {
      "cell_type": "code",
      "execution_count": 38,
      "metadata": {
        "id": "YWO3GsF2hlCN"
      },
      "outputs": [],
      "source": [
        "import pandas as pd\n",
        "import matplotlib.pyplot as plt\n",
        "import matplotlib as mpl\n",
        "import nltk.classify.util\n",
        "from sklearn.model_selection import train_test_split\n",
        "from sklearn.metrics import confusion_matrix\n",
        "from sklearn import metrics\n",
        "from sklearn.metrics import roc_curve, auc\n",
        "from nltk.classify import NaiveBayesClassifier\n",
        "import numpy as np\n",
        "import re\n",
        "import string\n",
        "import nltk\n",
        "%matplotlib inline\n",
        "from sklearn.ensemble import RandomForestClassifier\n",
        "from nltk.sentiment import SentimentIntensityAnalyzer"
      ]
    },
    {
      "cell_type": "code",
      "source": [
        "import pandas as pd\n",
        "\n",
        "# Read the entire Excel file\n",
        "df_1000_entries = pd.read_excel(\"/content/chatgpt1-3.xlsx\")\n",
        "\n",
        "# Read only 1000 entries\n",
        "df= df_1000_entries.head(1000)"
      ],
      "metadata": {
        "id": "v34FxAsKhlsC"
      },
      "execution_count": 3,
      "outputs": []
    },
    {
      "cell_type": "code",
      "source": [
        "df = df[['Text', 'Language']]\n",
        "df = df.dropna()"
      ],
      "metadata": {
        "id": "NccSr-o_iHF5"
      },
      "execution_count": 6,
      "outputs": []
    },
    {
      "cell_type": "code",
      "source": [
        "X = df['Text']\n",
        "y = df['Language']"
      ],
      "metadata": {
        "id": "xpqxElYDiMzr"
      },
      "execution_count": 7,
      "outputs": []
    },
    {
      "cell_type": "code",
      "source": [
        "nltk.download(\"vader_lexicon\")"
      ],
      "metadata": {
        "colab": {
          "base_uri": "https://localhost:8080/"
        },
        "id": "7Z7S5_wgiOsw",
        "outputId": "dca3ca5e-e381-4c4d-95a8-7f40966c95f9"
      },
      "execution_count": 8,
      "outputs": [
        {
          "output_type": "stream",
          "name": "stderr",
          "text": [
            "[nltk_data] Downloading package vader_lexicon to /root/nltk_data...\n",
            "[nltk_data]   Package vader_lexicon is already up-to-date!\n"
          ]
        },
        {
          "output_type": "execute_result",
          "data": {
            "text/plain": [
              "True"
            ]
          },
          "metadata": {},
          "execution_count": 8
        }
      ]
    },
    {
      "cell_type": "code",
      "source": [
        "#Splitting data\n",
        "X_train, X_test, y_train, y_test = train_test_split(X, y, test_size = 0.2)"
      ],
      "metadata": {
        "id": "XiRxlna2surZ"
      },
      "execution_count": 9,
      "outputs": []
    },
    {
      "cell_type": "code",
      "source": [
        "print(f'Train size: {X_train.shape}')\n",
        "print(f'Test size: {X_test.shape}')"
      ],
      "metadata": {
        "colab": {
          "base_uri": "https://localhost:8080/"
        },
        "id": "oEDMI718s0Nt",
        "outputId": "bf563d69-9bc4-4b42-a48c-3a6302710b2f"
      },
      "execution_count": 10,
      "outputs": [
        {
          "output_type": "stream",
          "name": "stdout",
          "text": [
            "Train size: (800,)\n",
            "Test size: (200,)\n"
          ]
        }
      ]
    },
    {
      "cell_type": "code",
      "source": [
        "#Vectorize the text\n",
        "#Cleaning and preprocessing of the data\n",
        "from sklearn.feature_extraction.text import TfidfVectorizer\n",
        "tfidf = TfidfVectorizer()\n",
        "X_train_tfidf = tfidf.fit_transform(X_train)\n",
        "X_test_tfidf = tfidf.transform(X_test)"
      ],
      "metadata": {
        "id": "NmFEvY0XiQhL"
      },
      "execution_count": 11,
      "outputs": []
    },
    {
      "cell_type": "code",
      "source": [
        "X_train_tfidf.shape"
      ],
      "metadata": {
        "colab": {
          "base_uri": "https://localhost:8080/"
        },
        "id": "EHZlBVnAjzsP",
        "outputId": "e1d4ae02-0fdd-4419-efb4-d0f0aa4946df"
      },
      "execution_count": 13,
      "outputs": [
        {
          "output_type": "execute_result",
          "data": {
            "text/plain": [
              "(800, 5863)"
            ]
          },
          "metadata": {},
          "execution_count": 13
        }
      ]
    },
    {
      "cell_type": "code",
      "source": [
        "X_test_tfidf.shape"
      ],
      "metadata": {
        "colab": {
          "base_uri": "https://localhost:8080/"
        },
        "id": "E2IbgFnutFL6",
        "outputId": "274d2225-a177-435d-bcba-4fe7e403b4c2"
      },
      "execution_count": 14,
      "outputs": [
        {
          "output_type": "execute_result",
          "data": {
            "text/plain": [
              "(200, 5863)"
            ]
          },
          "metadata": {},
          "execution_count": 14
        }
      ]
    },
    {
      "cell_type": "code",
      "source": [
        "from sklearn.tree import DecisionTreeClassifier\n",
        "# Create Decision Tree classifer object\n",
        "clf = DecisionTreeClassifier()\n",
        "\n",
        "# Train Decision Tree Classifer\n",
        "clf = clf.fit(X_train_tfidf, y_train)"
      ],
      "metadata": {
        "id": "j_IPkWSwndsB"
      },
      "execution_count": 15,
      "outputs": []
    },
    {
      "cell_type": "code",
      "source": [
        "#Predict the response for test dataset\n",
        "y_pred = clf.predict(X_test_tfidf)"
      ],
      "metadata": {
        "id": "OdFI-Rwznwx9"
      },
      "execution_count": 16,
      "outputs": []
    },
    {
      "cell_type": "code",
      "source": [
        "print(f\"\\nCount    Language:\\n{y_test[:10]}\\n\")"
      ],
      "metadata": {
        "colab": {
          "base_uri": "https://localhost:8080/"
        },
        "id": "n5wObCIVoMXk",
        "outputId": "46829238-cabc-4a46-82ab-f311de9038a2"
      },
      "execution_count": 17,
      "outputs": [
        {
          "output_type": "stream",
          "name": "stdout",
          "text": [
            "\n",
            "Count    Language:\n",
            "78     en\n",
            "103    en\n",
            "99     en\n",
            "471    en\n",
            "126    fr\n",
            "412    es\n",
            "122    de\n",
            "120    en\n",
            "290    en\n",
            "725    en\n",
            "Name: Language, dtype: object\n",
            "\n"
          ]
        }
      ]
    },
    {
      "cell_type": "code",
      "source": [
        "print(f\"\\nPredicted labels: {y_pred[:10]}\")"
      ],
      "metadata": {
        "colab": {
          "base_uri": "https://localhost:8080/"
        },
        "id": "7-ztticnoQ9d",
        "outputId": "a6406dd4-299e-400a-8056-9f9ad6de434e"
      },
      "execution_count": 18,
      "outputs": [
        {
          "output_type": "stream",
          "name": "stdout",
          "text": [
            "\n",
            "Predicted labels: ['en' 'en' 'en' 'en' 'en' 'es' 'en' 'en' 'en' 'en']\n"
          ]
        }
      ]
    },
    {
      "cell_type": "code",
      "source": [
        "#Printing the accuracy on it\n",
        "print(f\"Accuracy on test set: {round((metrics.accuracy_score(y_test, y_pred)*100),2)}%\")"
      ],
      "metadata": {
        "colab": {
          "base_uri": "https://localhost:8080/"
        },
        "id": "3s54-PtAobrb",
        "outputId": "eaff0e7d-ea48-453a-8155-842030dae78e"
      },
      "execution_count": 19,
      "outputs": [
        {
          "output_type": "stream",
          "name": "stdout",
          "text": [
            "Accuracy on test set: 77.5%\n"
          ]
        }
      ]
    },
    {
      "cell_type": "code",
      "source": [
        "#Random Forest Classifier\n",
        "#Create Random Forest classifer object\n",
        "rf = RandomForestClassifier()\n",
        "\n",
        "# Train Random Forest Classifer\n",
        "rf.fit(X_train_tfidf, y_train)"
      ],
      "metadata": {
        "colab": {
          "base_uri": "https://localhost:8080/",
          "height": 74
        },
        "id": "YhELNx3XoetC",
        "outputId": "1e6b655e-d74c-4950-c249-213d49101912"
      },
      "execution_count": 23,
      "outputs": [
        {
          "output_type": "execute_result",
          "data": {
            "text/plain": [
              "RandomForestClassifier()"
            ],
            "text/html": [
              "<style>#sk-container-id-1 {color: black;background-color: white;}#sk-container-id-1 pre{padding: 0;}#sk-container-id-1 div.sk-toggleable {background-color: white;}#sk-container-id-1 label.sk-toggleable__label {cursor: pointer;display: block;width: 100%;margin-bottom: 0;padding: 0.3em;box-sizing: border-box;text-align: center;}#sk-container-id-1 label.sk-toggleable__label-arrow:before {content: \"▸\";float: left;margin-right: 0.25em;color: #696969;}#sk-container-id-1 label.sk-toggleable__label-arrow:hover:before {color: black;}#sk-container-id-1 div.sk-estimator:hover label.sk-toggleable__label-arrow:before {color: black;}#sk-container-id-1 div.sk-toggleable__content {max-height: 0;max-width: 0;overflow: hidden;text-align: left;background-color: #f0f8ff;}#sk-container-id-1 div.sk-toggleable__content pre {margin: 0.2em;color: black;border-radius: 0.25em;background-color: #f0f8ff;}#sk-container-id-1 input.sk-toggleable__control:checked~div.sk-toggleable__content {max-height: 200px;max-width: 100%;overflow: auto;}#sk-container-id-1 input.sk-toggleable__control:checked~label.sk-toggleable__label-arrow:before {content: \"▾\";}#sk-container-id-1 div.sk-estimator input.sk-toggleable__control:checked~label.sk-toggleable__label {background-color: #d4ebff;}#sk-container-id-1 div.sk-label input.sk-toggleable__control:checked~label.sk-toggleable__label {background-color: #d4ebff;}#sk-container-id-1 input.sk-hidden--visually {border: 0;clip: rect(1px 1px 1px 1px);clip: rect(1px, 1px, 1px, 1px);height: 1px;margin: -1px;overflow: hidden;padding: 0;position: absolute;width: 1px;}#sk-container-id-1 div.sk-estimator {font-family: monospace;background-color: #f0f8ff;border: 1px dotted black;border-radius: 0.25em;box-sizing: border-box;margin-bottom: 0.5em;}#sk-container-id-1 div.sk-estimator:hover {background-color: #d4ebff;}#sk-container-id-1 div.sk-parallel-item::after {content: \"\";width: 100%;border-bottom: 1px solid gray;flex-grow: 1;}#sk-container-id-1 div.sk-label:hover label.sk-toggleable__label {background-color: #d4ebff;}#sk-container-id-1 div.sk-serial::before {content: \"\";position: absolute;border-left: 1px solid gray;box-sizing: border-box;top: 0;bottom: 0;left: 50%;z-index: 0;}#sk-container-id-1 div.sk-serial {display: flex;flex-direction: column;align-items: center;background-color: white;padding-right: 0.2em;padding-left: 0.2em;position: relative;}#sk-container-id-1 div.sk-item {position: relative;z-index: 1;}#sk-container-id-1 div.sk-parallel {display: flex;align-items: stretch;justify-content: center;background-color: white;position: relative;}#sk-container-id-1 div.sk-item::before, #sk-container-id-1 div.sk-parallel-item::before {content: \"\";position: absolute;border-left: 1px solid gray;box-sizing: border-box;top: 0;bottom: 0;left: 50%;z-index: -1;}#sk-container-id-1 div.sk-parallel-item {display: flex;flex-direction: column;z-index: 1;position: relative;background-color: white;}#sk-container-id-1 div.sk-parallel-item:first-child::after {align-self: flex-end;width: 50%;}#sk-container-id-1 div.sk-parallel-item:last-child::after {align-self: flex-start;width: 50%;}#sk-container-id-1 div.sk-parallel-item:only-child::after {width: 0;}#sk-container-id-1 div.sk-dashed-wrapped {border: 1px dashed gray;margin: 0 0.4em 0.5em 0.4em;box-sizing: border-box;padding-bottom: 0.4em;background-color: white;}#sk-container-id-1 div.sk-label label {font-family: monospace;font-weight: bold;display: inline-block;line-height: 1.2em;}#sk-container-id-1 div.sk-label-container {text-align: center;}#sk-container-id-1 div.sk-container {/* jupyter's `normalize.less` sets `[hidden] { display: none; }` but bootstrap.min.css set `[hidden] { display: none !important; }` so we also need the `!important` here to be able to override the default hidden behavior on the sphinx rendered scikit-learn.org. See: https://github.com/scikit-learn/scikit-learn/issues/21755 */display: inline-block !important;position: relative;}#sk-container-id-1 div.sk-text-repr-fallback {display: none;}</style><div id=\"sk-container-id-1\" class=\"sk-top-container\"><div class=\"sk-text-repr-fallback\"><pre>RandomForestClassifier()</pre><b>In a Jupyter environment, please rerun this cell to show the HTML representation or trust the notebook. <br />On GitHub, the HTML representation is unable to render, please try loading this page with nbviewer.org.</b></div><div class=\"sk-container\" hidden><div class=\"sk-item\"><div class=\"sk-estimator sk-toggleable\"><input class=\"sk-toggleable__control sk-hidden--visually\" id=\"sk-estimator-id-1\" type=\"checkbox\" checked><label for=\"sk-estimator-id-1\" class=\"sk-toggleable__label sk-toggleable__label-arrow\">RandomForestClassifier</label><div class=\"sk-toggleable__content\"><pre>RandomForestClassifier()</pre></div></div></div></div></div>"
            ]
          },
          "metadata": {},
          "execution_count": 23
        }
      ]
    },
    {
      "cell_type": "code",
      "source": [
        "print(f\"\\nPredicted labels: {y_pred[:10]}\")"
      ],
      "metadata": {
        "colab": {
          "base_uri": "https://localhost:8080/"
        },
        "id": "mZRIyotTowC-",
        "outputId": "3e681bdc-74c9-486e-e041-41155b752b89"
      },
      "execution_count": 24,
      "outputs": [
        {
          "output_type": "stream",
          "name": "stdout",
          "text": [
            "\n",
            "Predicted labels: ['en' 'en' 'en' 'en' 'en' 'es' 'en' 'en' 'en' 'en']\n"
          ]
        }
      ]
    },
    {
      "cell_type": "code",
      "source": [
        "print(f\"Accuracy on test set: {round((metrics.accuracy_score(y_test, y_pred)*100),2)}%\")"
      ],
      "metadata": {
        "colab": {
          "base_uri": "https://localhost:8080/"
        },
        "id": "mt1GElf1pPLQ",
        "outputId": "98a0b1a2-2095-4509-ce78-bac46e6dbdae"
      },
      "execution_count": 25,
      "outputs": [
        {
          "output_type": "stream",
          "name": "stdout",
          "text": [
            "Accuracy on test set: 77.5%\n"
          ]
        }
      ]
    },
    {
      "cell_type": "code",
      "source": [
        "\n",
        "from sklearn.feature_extraction.text import TfidfVectorizer\n",
        "from sklearn.cluster import KMeans\n",
        "# Extract features from tweet text\n",
        "vectorizer = TfidfVectorizer()\n",
        "X = vectorizer.fit_transform(df['Text'])\n",
        "\n",
        "# Perform K-means clustering\n",
        "k = 5  # Number of clusters\n",
        "kmeans = KMeans(n_clusters=k, random_state=42)\n",
        "kmeans.fit(X)\n",
        "\n",
        "# Assign cluster labels to the tweets\n",
        "df['cluster_label'] = kmeans.labels_\n",
        "\n",
        "# Print the cluster labels for each tweet\n",
        "print(df[['Text', 'cluster_label']])\n",
        "\n",
        "# Get the tweets in a specific cluster\n",
        "cluster_id = 2  # Replace with the desired cluster ID\n",
        "cluster_tweets = df[df['cluster_label'] == cluster_id]['Text'].tolist()\n",
        "print(f\"Tweets in Cluster {cluster_id}:\")\n",
        "for tweet in cluster_tweets:\n",
        "    print(tweet)"
      ],
      "metadata": {
        "colab": {
          "base_uri": "https://localhost:8080/"
        },
        "id": "j8rbTkKPpYdS",
        "outputId": "42e52798-123a-423a-976a-71bd56cfcf69"
      },
      "execution_count": 31,
      "outputs": [
        {
          "output_type": "stream",
          "name": "stdout",
          "text": [
            "                                                  Text  cluster_label\n",
            "0    ChatGPTã§éŠã¶ã®å¿˜ã‚Œã¦ãŸï¼ï¼\\næ›¸é¡žä...              2\n",
            "1    @AlexandrovnaIng Prohibition of ChatGPT has be...              1\n",
            "2    Schaut Euch an, was @fobizz @DianaKnodel alles...              3\n",
            "3    Bow down to chatGPT ðŸ«¡..... https://t.co/ENT...              3\n",
            "4    Profilinde vatan, TÃ¼rkiye falan yazan bireyle...              3\n",
            "..                                                 ...            ...\n",
            "995  While there are a lot of conversations on arou...              1\n",
            "996  @Samuel_Orogun @closebracket @0xIrish369 @hari...              1\n",
            "997  \"Sami twÃ³rcy algorytmu ChatGPT uspokajajÄ… ws...              3\n",
            "998  @ripiprazole @ReineMayr Beaucoup trop dans le ...              3\n",
            "999  #ChatGPT : Gone are the mornings where I brain...              1\n",
            "\n",
            "[1000 rows x 2 columns]\n",
            "Tweets in Cluster 2:\n",
            "ChatGPTã§éŠã¶ã®å¿˜ã‚Œã¦ãŸï¼ï¼\n",
            "æ›¸é¡žä½œã‚‹ã‚³ãƒ¼ãƒ‰æ›¸ã„ã¦ã¿ã¦ã»ã—ã„ã®ã¨ã€\n",
            "ã©ã“ã¾ã§æ€è€ƒæ•´ç†ä»˜ãåˆã£ã¦ãã‚Œã‚‹ã®ã‹ã¨ã€\n",
            "ã‚¦ãƒŸã‚¬ãƒ¡ã®ã‚¹ãƒ¼ãƒ—ã‚„ã£ã¦ã¿ãŸã„ã€‚\n",
            "ã‚ã¨ã¯èª¿ã¹ç‰©ã—ã¦ãã‚Œã€‚\n",
            "äº‹å‹™æ‰€ã§ã¡ã‚‡ã„ã¨ã„ã˜ã£ãŸãŒã€ã¨ã‚Šã‚ãˆãšè‰²ã€…ã‚„ã£ã¦ã¿ãŸã„ã€‚\n",
            "ã‚„ã£ã¨ChatGPTã‚’ä½“é¨“ã§ãã¾ã—ãŸã€œ\n",
            "ã“ã†ã„ã£ãŸãƒ—ãƒ­ã‚°ãƒ©ãƒ ã®è³ªå•ã‚‚è¿”ã—ã¦ãã‚Œã¦ã™ã”ã„ https://t.co/cIKO4yx0UX\n",
            "ChatGPTã¨ãŠè©±ã—ã—ã¦ã‚‹ã¨\n",
            "ã‚€ã‹ãƒ¼ã—ã®â€œDictionaryâ€ã£ã¦\n",
            "ãƒ†ãƒ¼ãƒ–ãƒ«ã‚²ãƒ¼ãƒ (?)ã‚’æ€ã„èµ·ã“ã™\n",
            "#ChatGPT ã«é ­ä½¿ã‚ãªã„ã§åœ¨å®…ã§ç¨¼ãæ–¹æ³•èžã„ãŸã‚‰æ•™ãˆã¦ãã‚ŒãŸã‘ã© é ­ä½¿ã†ã“ã¨ã‚’ãŠã™ã™ã‚ã•ã‚ŒãŸ https://t.co/EElPE3PkuP\n",
            "åˆã‚ã¦ChatGPTä½¿ã£ã¦ã‚‹ã‘ã©ã™ã”ã„ãªãƒ»ãƒ»ãƒ»\n",
            "ä¸€å¿œæƒ…å ±ãŒæ­£ã—ã„ã‹è‡ªåˆ†ã‚‚èª¿ã¹ãªãŒã‚‰ã‚„ã£ã¦ã‚‹ã‘ã©ã€ã“ã‚Œã§ãƒ—ãƒ­ã‚°ãƒ©ãƒŸãƒ³ã‚°ã®å‹‰å¼·ãŒã§ããã†ã  https://t.co/a4Oq8ktA0i\n",
            "ã¿ã®ã‚‚ã‚“ãŸãŒç´è±†æŽ¨ã—ã—ãŸã‚‰ç¿Œæ—¥ã‚¹ãƒ¼ãƒ‘ãƒ¼ã‹ã‚‰ç´è±†ãŒæ¶ˆãˆã‚‹ã‚“ã ã‹ã‚‰ã€chatGPTã®ãªã‚“ã¡ã‚ƒã£ã¦ç†è«–ã ã£ã¦å¤§å·®ãªã„ã§ã—ã‚‡\n",
            "ã€Stable Diffusionã€‘ãƒ†ã‚­ã‚¹ãƒˆã‚’å¹»è¦šã«å¤‰ãˆã‚‹ã€ŒUnstable Illusionã€ã‚’å®Ÿè£…ã—ã¦ã¿ãŸï¼ \n",
            "\n",
            "ãƒ»ãƒˆãƒ¬ãƒ³ãƒ‰\n",
            "ãƒ»å¾—æ„ãªã“ã¨\n",
            "ãƒ»ç‹¬è‡ªæ€§\n",
            "ãƒ»çµ„ã¿åˆã‚ã›\n",
            "ãŒåŠ¹ãã¾ã—ãŸ\n",
            "\n",
            "æµã‚Œã¯ChatGPTã§ã™ãŒ\n",
            "ä½•ã‚„ã“ã„ã¤ã¨ãªã‚‹å†…å®¹ã§ã—ãŸãŒ\n",
            "åå¿œé«˜ã‹ã£ãŸã—ã€TensorFlowã¨ã‹Pillowãªã®ã§\n",
            "æ„å¤–ã¨å½¹ã«ç«‹ã¡ã¾ã™\n",
            "https://t.co/7KJfruLCmB https://t.co/2PONxu9UbT\n",
            "åŒã˜ã‚ˆã†ã«ChatGPTã«ã‚ã„ã®æ¥­ç¸¾ã‚’èžã„ã¦ã¿ãŸã‚‰ã€æ”¿æ²»ã¨æ•™è‚²ã¨æ–‡åŒ–ã«ãŠã„ã¦é‡è¦ãªå½¹å‰²ã‚’æ‹…ã£ã¦ããŸæ”¿æ²»å®¶ã€æ³•å­¦è€…ã€æ•™è‚²è€…ã‚‰ã—ã„ã—ã€æ•™è‚²åˆ¶åº¦ã‚’æ”¹é©ã™ã‚‹ãŸã‚ã«å¤šãã®ç ”ç©¶ã‚„è‘—æ›¸ã‚’åŸ·ç­†ã—ã¦ã€æ”¿æ²»å®¶ã¨ã—ã¦æ´»èºã—ã¦ã„ãŸã‚‰ã—ã„ https://t.co/C2Y96lGtvR https://t.co/O9F0ABEas5\n",
            "å˜ç´”ã«å„ªåŠ£ã¤ã‘ã‚‹ã“ã¨ã¯å‡ºæ¥ãªã„ã‘ã©ã€è€ƒãˆã‚‹åŠ›ï¼ˆã®ã‚ˆã†ã«è¦‹ãˆã‚‹ã‚‚ã®ï¼‰ã¯chatGPTã®æ–¹ãŒä¸Šãªã‚“ã ãªã€‚\n",
            "ä¸€æ–¹ã§ã©ã“ã‹ã«ç­”ãˆãŒã‚ã‚‹è³ªå•ã¯Perplexity Askã«èžãã¨ã‚½ãƒ¼ã‚¹ã¨ä¸€ç·’ã«æç¤ºã—ã¦ãã‚Œã¦æ¥½ãªã‚“ã ã‚ˆãªã‚ã€‚\n",
            "ç¤¾å†…ã®DBã¨ç¹‹ã’ã¦FAQ botä½œã‚‹ã¿ãŸã„ãªæƒ³å®šã ã¨Perplexity Askã‚¹ã‚¿ã‚¤ãƒ«ã®æ–¹ãŒè‰¯ã•ãã†ã«è¦‹ãˆã‚‹ã€‚\n",
            "Tâ—‹Sæœªã ã«SDGsæŽ¨ã™ãªãƒ¼ã£ã¦æ€ã£ã¦ã‚‹ã‘ã©ã€ã‚µãƒ³ã‚¸ãƒ£ãƒã¯ChatGPTæ€¥ã«è¨€ã£ã¦ãŸãªã€‚ã€‚\n",
            "â€œç±³é«˜æ ¡æ•™å¸«ãŒåéœ² ã€ŒChatGPTã®ç™»å ´ã§ã€Žä½œæ–‡èª²é¡Œã€ã®æ™‚ä»£ã¯çµ‚ã‚ã‚‹ã€ | ã€Œæ›¸ãæŠ€è¡“ã€ã¯ä¸è¦ã«ãªã‚‹ã®ã‹â€ https://t.co/N4kKu5p4ME\n",
            "ã¡ã‚‡ã£ã¨æ–‡ç« ã‚’ãƒ–ãƒ©ãƒƒã‚·ãƒ¥ã‚¢ãƒƒãƒ—ã—ã‚ˆã†ã¨æ€ã£ã¦chatGPTã«ã¤ãªã„ã ã‚‰è½ã¡ã¦ãŸã€‚ã™ã”ã„æŽ¥ç¶šãƒªã‚¯ã‚¨ã‚¹ãƒˆãŒæ¥ã¦ã‚‹ã‚“ã ã‚ã†ãªã‚ã€‚\n",
            "ã‚µã‚¤ãƒãƒ¼çŠ¯ç½ªè€…ãŒæ—©é€Ÿã€ChatGPTã‚’æ‚ªç”¨ã€€3ã¤ã®äº‹ä¾‹ã‚’ç´¹ä»‹ - ITmedia ã‚¨ãƒ³ã‚¿ãƒ¼ãƒ—ãƒ©ã‚¤ã‚º https://t.co/3qxZcpWl4g\n",
            "ChatGPTã«æ—¥æœ¬ã®æœªæ¥ã«ã¤ã„ã¦èžã„ã¦ã¿ãŸã€‚çµè«–ã¨ã—ã¦ã€æ—¥æœ¬ã¯å¤§ä¸ˆå¤«ã§ã‚ã‚ŠæœŸå¾…å¤§ã¨ã„ã†äº‹ã§ã™ã€‚\n",
            "å› ã¿ã«ä¸­å›½ã«ã¤ã„ã¦ã¯ã‹ãªã‚Šä¸ç©ãªå›žç­”ã‚’ã—ã¦ãã‚‹ã€‚\n",
            "#ChatGPT https://t.co/tf6cYKbVB1\n",
            "Twitterã§è¦‹ãŸChromeæ‹¡å¼µã€ŒYouTube Summary with ChatGPTã€ã‚’å°Žå…¥ã—ã¦ã€ãƒãƒ£ãƒ³ãƒãƒ«ç™»éŒ²ã‚’ã—ã¦ã„ã‚‹å²¡æœ¬å‰èµ·(@sasukebusaiku )ã•ã‚“ã®å‹•ç”»ã‚’è¦³ã¦ã¿ãŸã¨ã“ã‚ã€çµæ§‹ä¸Šæ‰‹ã«æ–‡å­—èµ·ã“ã—ã•ã‚Œã¾ã—ãŸã€‚ã“ã‚Œã¯è‰²ã€…ã¨ä½¿ãˆãã†ã§ã™ã­ï¼ä»Šã¯ã¾ã•ã«AIæ´»ç”¨ã®æ™‚ä»£ï¼ˆå²¡æœ¬ã•ã‚“ã™ã¿ã¾ã›ã‚“â€¦ï¼‰ã€‚\n",
            "https://t.co/E9zutPsGgC https://t.co/tCDLrxT6mc\n",
            "ChatGPTãŒã€ã¤ã„ã«ãƒ¢ãƒ‹ã‚¿ãƒªãƒ³ã‚°ã®ã‚¢ãƒ©ãƒ¼ãƒˆã«ã¾ã§...ï¼\n",
            "https://t.co/LumVbJR6Ht\n",
            "ç‰¹ã«æ–°ã—ã„è©±ã§ã¯ãªã„ã®ã«ã‚‚é–¢ã‚ã‚‰ãšã€å…ˆè¼©ã®åšå£«è«–æ–‡ã¨ChatGPTæ§˜ã®ãŠå‘Šã’ã«æ˜Žã‚‰ã‹ãªé•ã„ãŒã‚ã‚Šã€ç§ã¯ã‚ã‚ã‚ã‚ã—ã¦ã„ã‚‹\n",
            "ChatGPTã®ã“ã¨ã‹ã¨æ€ã£ãŸã€‚\n",
            "çµæ§‹ï¼Œè³ªå•è€…ã®é¡”è‰²ã‚’ä¼ºã†å›žç­”ãŒè¦‹ã‚‰ã‚Œã‚‹ã®ã§ã™ã€‚ https://t.co/y4eXWuSY6r\n",
            "ChatGPTã«äººç”Ÿç›¸è«‡ã—ã¦ã¿ãŸã‘ã©ã€æƒ³åƒä»¥ä¸Šã«ãƒ’ãƒ³ãƒˆãŒå¾—ã‚‰ã‚Œã‚‹\n",
            "å¹´æ•°ã¯åˆã£ã¦ã„ã‚‹ã‘ã©ã€èª¬æ˜ŽãŒé–“é•ã„ãªã®ã¯ãªãœï¼Ÿ\n",
            "\n",
            "ChatGPTã§è©¦ã™ã¨ https://t.co/robizcPkmZ https://t.co/BA5kQdOr5G\n",
            "ChatGPTå…ˆç”Ÿã«æ–™ç†ã‚’æ•™ã‚ã£ãŸæ‰€ã€90ç‚¹ã‚’ä»˜ã‘ã‚‰ã‚Œã‚‹ãƒ¬ã‚·ãƒ”ã‚’é ‚ã„ãŸã€‚\n",
            "ã‚ªãƒªãƒ¼ãƒ–ã‚ªã‚¤ãƒ«ã§ãªãã”ã¾æ²¹ã§ã€è‚‰ã‚‚500gã¯å¤šã™ãŽã€ç…®è¾¼ã‚€ã‚“ã‹ã„ï¼Ÿã¨ã¯æ€ã£ãŸãŒã¾ãè‰¯ã—ã¨ã—ã‚ˆã†ã€‚\n",
            "ã™ã’ã‡ãªæ–°ä¸–ç´€ã€‚ https://t.co/ngBoFr11AG\n",
            "ChatGPTã™ã”ã„ãªã€‚ https://t.co/LJ3zwNwfW0\n",
            "ChatGPTã¯æ–‡ç« ã¨ã‹è¨€ã„å›žã—ã¨ã‹è€ƒãˆã¦ãã‚Œã¾ã—ãŸã€‚\n",
            "ãƒ‡ã‚¶ã‚¤ãƒ³ã‚‚ãƒ¢ãƒ‡ãƒ«ã•ã‚“ã‚‚ã¯MidjourneyãŒè€ƒãˆã¾ã—ãŸã€‚\n",
            "ãã‚ãã‚è€ƒãˆã‚‹å¿…è¦ã€‚/ChatGPTæ™‚ä»£ã«ãƒ¬ãƒãƒ¼ãƒˆèª²é¡Œã¯æˆç«‹ã™ã‚‹ï¼Ÿï½œå²¡ç‘žèµ· Mizuki Okaï½œnote https://t.co/VNZpDnOect\n",
            "æƒ…å ±ã®æ­£ç¢ºã•ãŒChatGPTä¸¦ã¿ãªã‚“ã ã‚ˆãªâ€¦\n",
            "chatgptä»¥å¤–ã«ã‚‚ã„ã‚ã„ã‚é¢ç™½ãã†ãªAIãŒå‡ºã¦ããŸã‹ã‚‰ã€æ˜¥ä¼‘ã¿ã¯ã„ã‚ã„ã‚è§¦ã£ã¦äººé–“ã®èƒ½åŠ›ãŒã„ã‹ã«ä½Žã„ã‹ã‚’å™›ã¿ç· ã‚ãŸã„\n",
            "ChatGPTã®å½±éŸ¿ã§ã‚¢ãƒ›ãªä¸€èˆ¬äººãŒè³¢ããªã£ãŸã¨å‹˜é•ã„ã—ã¦æœ‰æ–™ã§æƒ…å ±ã‚’è²·ã‚ãªããªã‚‹ã‹ã‚‰ã€noteæœ‰æ–™è²©å£²ã—ã¦ã„ã‚‹ã‚¤ãƒ³ãƒ•ãƒ«ã‚¨ãƒ³ã‚µãƒ¼ã«ã¯ç—›æ‰‹ã«ãªã‚‹ã¨æ€ã†ã€‚\n",
            "é«˜é¡å¸¯ã®å•†å“ã ã‘è©æ¬ºã ã¨ã—ã¦ã‚‚å£²ã‚Œã‚‹ã‹ã‚‚ã—ã‚Œãªã„ã€‚ https://t.co/2xiMljAc7V\n",
            "æ—¥æœ¬èªžâ†’deeplã§è‹±èªžâ†’ChatGPTã§æ·»å‰Šâ†’deeplã§æ—¥æœ¬èªžã«ã—ãŸã‚‰ã‚ˆã‚Šç¶ºéº—ãªæ–‡ç« ã«ãªã£ã¦å¸°ã£ã¦ããŸ\n",
            "ãƒžã‚¤ã‚¯ãƒ­ã‚½ãƒ•ãƒˆã¯VRã€ARé–¢é€£ã®ã‚¹ã‚¿ãƒƒãƒ•ã‚’å…¨å“¡ãƒ¬ã‚¤ã‚ªãƒ•ã™ã‚‹ã‚‰ã—ã„ã‘ã©ã€ãã‚Šã‚ƒChatGPTã‚’è¦‹ãŸã‚‰AIå…¨çªã£å¼µã™ã‚‹ã‚ˆã­ã€‚ãƒ“ã‚¸ãƒã‚¹ã¸ã®æ³¢åŠåŠ¹æžœãŒãœã‚“ãœã‚“é•ã†ã€‚\n",
            "æœªã ã«ä»®æƒ³ç¾å®Ÿã«å…¥ã‚Œè¾¼ã‚“ã§ã‚‹FBãªã‚“ã‹çµ‚ã‚ã‚Šã ã­ã€‚\n",
            "ã€Œãƒ—ãƒ­ãƒ€ã‚¯ãƒˆãƒžãƒã‚¸ãƒ¡ãƒ³ãƒˆã‚’å­¦ã¶ã€ã‚’é¡Œæã«ä¸­èº«ã®å­¦ç¿’ç´ æã¯ChatGPTã§ä½œæˆã•ã‚Œã¦ã„ã‚‹ã‚µã‚¤ãƒˆã€‚\n",
            "https://t.co/17D2CjlsaZ\n",
            "æœ€è¿‘ã®å£ã‚³ãƒŸã‚µã‚¤ãƒˆã‚‚ä¿¡ç”¨ãªã‚‰ã‚“ã®ã§ã€ã“ã“ã¯ã€ã¨æ€ã„chatGPTã«èžã„ã¦ã¿ãŸã€‚\n",
            "è¦ªèº«ã«ãªã£ã¦ãã‚Œã‚‹ã˜ã‚ƒãªã„ã‹ã¨æ„Ÿå‹•ã—ã¦ã€ãƒãƒƒãƒˆã§è²·ãŠã†ã¨ã—ãŸã‚‰ã€ãã‚“ãªåž‹ç•ªãªã„ã‚‰ã—ã„ã€‚ã‚„ã‚‹ãªGPT https://t.co/6NmeD5WLup https://t.co/yWl4YrdxN0\n",
            "æœ€è¿‘ChatGPTãŒè©±é¡Œã«ãªã£ã¦ã‚‹ã®ã§è©¦ã—ã¦ã¿ã¾ã—ãŸï¼\n",
            "èª¿ã¹æ–¹ã‚‚åˆ†ã‹ã‚‰ãªã„ã‚ˆã†ãªæœªçŸ¥ã®ã“ã¨ã‚’èª¿ã¹ã‚‹æ™‚ã®å–ã£æŽ›ã‹ã‚Šã«è‰¯ã•ãã†ãªæ°—ãŒã—ã¾ã—ãŸã€‚\n",
            "ã‚ã¨ã€èª¤ã£ã¦ã‚‹æ™‚ã‚‚ã‚ã‚Šã¨ã‚ã‚Šãã†ãªã®ã§å›žç­”ã®æ­£èª¤ã‚’èª¿ã¹ã‚‹ã®ã¯å¿…é ˆã§ã™ã­ã€‚ https://t.co/dGYU6bHg1f\n",
            "ã™ã¹ã¦ã®è‰¯ã„ã“ã¨ã«ã¯çµ‚ã‚ã‚ŠãŒã‚ã‚Šã¾ã™ã€‚ ChatGPT ã¯ã¾ã‚‚ãªãæ”¯æ‰•ã‚ã‚Œã¾ã™ https://t.co/CFkVHIH18g https://t.co/2643brtNm0\n",
            " #chatgpt \n",
            "https://t.co/8wTDVOU4FK\n",
            "ä¸€æ˜¨æ—¥ã€ã€Œã‚‚ã†ã‚°ã‚°ã‚‹ã‚“ã˜ã‚ƒãªãã¦ ChatGPT ãŒãã®ã¾ã¾æ¤œç´¢ã‚¨ãƒ³ã‚¸ãƒ³ã‚’æ·˜æ±°ã™ã‚‹ã‚“ã˜ã‚ƒãªã„ã‹?ã€ã£ã¦è©±ã—ãŸã°ã£ã‹ãªã®ã§ã‚¿ã‚¤ãƒ ãƒªãƒ¼ã ã€‚Google ãŒ ChatGPT ã®ä¸‹ä½äº’æ›ã«ãªã£ãŸã‚‰ã‚‚ã†ã‚°ã‚°ã‚‰ãšã« ChatGPT ä½¿ãˆã°ã„ã„ã ã‘ã ã‹ã‚‰ãª\n",
            "å™‚ã® #ChatGPT è©¦ã—ã¦ã¿ãŸã€‚\n",
            "ã€Œå’Œæ­Œã€ã£ã¦æŒ‡ç¤ºãŒã€é›£ã—ã‹ã£ãŸã®ã‹ãªã€‚ https://t.co/wlxsb06f6q\n",
            "è‡ªåˆ†ãŒè©³ã—ã„åˆ†é‡Žã«é–¢ã—ã¦ãªã‚‰ChatGPTã®å›žç­”ã‚’ç¬‘ãˆã‚‹ä½™è£•ï¼ŸãŒã¾ã ã‚ã‚‹ã‘ã©ã€çŸ¥ã‚‰ãªã„åˆ†é‡Žãªã‚‰ç–‘ã†ã“ã¨ã‚‚å‡ºæ¥ãªã„ã‚ã‘ã§ã€‚è©³ã—ã„ã¨æ€ã£ã¦ã‚‹äº‹ã ã£ã¦ã™ãã«ç¬‘ãˆãªããªã£ã¦ç–‘å¿ƒæš—é¬¼ã«ãªã£ãŸã‚Šã™ã‚‹ã‚“ã ã‚ã†ãªã€‚\n",
            "@mai_syuku_tanu è‰²ã€…å‰µä½œã§ããã†ã§ã™ã‚ˆã­ã€‚\n",
            "ã‚ã€ä¾‹ã®Chat GPTã«ã‚„ã£ã¦ã‚‚ã‚‰ãŠã†ã‹ãƒ»ãƒ»ãƒ»(*^^*)\n",
            "ChatGPT ã§ä½œã‚‰ã‚ŒãŸã‚ˆã†ãªè¨˜äº‹ã‚’è¡¨ç¤ºã—ãªã„æ¤œç´¢ã‚¨ãƒ³ã‚¸ãƒ³ãŒå‡ºã¦ããŸã‚‰å¼·ãã†ã€‚\n",
            "ã‚¤ãƒ³ã‚¿ãƒ¼ãƒãƒƒãƒˆã•ãˆã‚ã‚Œã°ã€å‹‰å¼·ã—ãªãã¦ã‚‚è‰¯ã„ã¨åŒã˜è¨€èª¬ã ã­ã€‚\n",
            "\n",
            "ç±³é«˜æ ¡æ•™å¸«ãŒåéœ² ã€ŒChatGPTã®ç™»å ´ã§ã€Žä½œæ–‡èª²é¡Œã€ã®æ™‚ä»£ã¯çµ‚ã‚ã‚‹ã€ | ã€Œæ›¸ãæŠ€è¡“ã€ã¯ä¸è¦ã«ãªã‚‹ã®ã‹ https://t.co/5U54qtfbwV\n",
            "ãƒ™ãƒ³ãƒãƒ£ãƒ¼ã‚¹ã‚¿ãƒ¼ã«ã¤ã„ã¦\n",
            "#ChatGPT https://t.co/nXwqJl3I6x\n",
            "è©±é¡Œã®ChatGPTã€ã“ã‚Œã‚’èª­ã‚“ã ã‚‰è©¦ã•ãšã«ã„ã‚‰ã‚Œãªããªã£ã¦èª¿ã¹ã‚‚ã®ã«ä½¿ã£ã¦ã¿ãŸã€‚ã“ã‚Œã¯â€¦ä¾¿åˆ©â€¦ï¼\n",
            "\n",
            "ChatGPTã®ä½¿ã„æ–¹ï¼œ26ä¾‹ï¼žï½œå…¥æ±Ÿ æ…Žå¾ ðŸš€ MENTAä»£è¡¨ @iritec_jp #note https://t.co/lKXapGq9yE\n",
            "&gt;MicrosoftãŒAzureã«OpenAIç©ã‚“ã§ã€ã‚‚ã†ã™ãå…¨ã¦ã®è£½å“ã«ChatGPTå…¥ã‚Œã‚‹ã ã‹è¨€ã„å‡ºã—ã¦\n",
            "\n",
            "å½“ç„¶ã‚„ã‚‹ã ã‚ã†ã¨ã¯æ€ã£ã¦ãŸã‘ã©ã€VisualStudioã«ã‚³ãƒ¼ãƒ‰ã‚’ææ¡ˆã•ã›ã‚‰ã‚Œã‚‹ã®ã­ã€‚æœŸå¾…ã—ã¡ã‚ƒã†ã€‚\n",
            "ChatGPTã«ã€Œã“ã‚“ãªæ„Ÿã˜ã§ãƒãƒƒãƒˆãƒ¯ãƒ¼ã‚¯æ§‹ç¯‰ã—ãŸã‚“ã ã‘ã©ç¹‹ãŒã‚‰ãªã„åŽŸå› ãªã‚“ã ã¨æ€ã†ï¼Ÿã€ã£ã¦èžã„ã¦åˆ‡ã‚Šåˆ†ã‘æ–¹æ³•ææ¡ˆã—ã¦ã‚‚ã‚‰ã†ã®æ—ã‚‹â€¦\n",
            "ã‚¹ãƒ©ã‚¹ãƒ©å˜˜ã‚’ã¤ãChatGPTã•ã‚“ã«ã€ã€ŒãŸã»ã„ã‚„ã€ã‚’ã‚„ã‚‰ã›ã‚ˆã†ã¨ã—ãŸã‚“ã ã‘ã©\n",
            "èžãæ–¹ãŒæ‚ªã‹ã£ãŸã‚“ã‹ãªðŸ¤” https://t.co/bmqBMCJVW2\n",
            "ChatGPT    AIã®ã¹ã‚Šã™ã¨\n",
            "\n",
            "å·¦ã‚’åˆ¶ã™ã‚‹è€…ã¯ä¸–ç•Œã‚’åˆ¶ã™\n",
            "\n",
            "AIã‚’åˆ¶ã™ã‚‹ã¨å¹¸ç¦åº¦ãŒä¸ŠãŒã‚‹ä¸€åŠ©ã«\n",
            "\n",
            "ä»ŠAIãŒå‡ºæ¥ãªã„ã“ã¨ã§\n",
            "\n",
            "ç”Ÿãã¦ã‚‹é–“ã«ç³§ã‚’å¾—ã‚‹\n",
            "ChatGPTã¯ã€ãƒžãƒ¼ã‚±ãƒ†ã‚£ãƒ³ã‚°ã‹ã‚‰æ•™è‚²ã¾ã§ã€å¤šç¨®å¤šæ§˜ãªæ¥­ç•Œã§æ´»ç”¨ã•ã‚Œã¦ãŠã‚Šã€å¿…è¦ãªæƒ…å ±ã‚’å–å¾—ã—ãŸã‚Šã€å°æœ¬ã‚’ä½œæˆã—ãŸã‚Šã€ã‚³ãƒ”ãƒ¼ã‚’æ›¸ã„ãŸã‚Šã€ãƒªã‚µãƒ¼ãƒã‚’è¡Œã†ãªã©ã€ã•ã¾ã–ã¾ãªä½œæ¥­ã«ä½¿ç”¨ã§ãã‚‹AIãƒãƒ£ãƒƒãƒˆãƒœãƒƒãƒˆã§ã‚ã‚‹ã€‚MicrosoftãŒ10å„„ãƒ‰ãƒ«ã‚’æŠ•è³‡ã—ã¦ã„ã‚‹ã»ã‹â€¦\n",
            "https://t.co/FRspQKSdYn\n",
            "é…ã‚Œã°ã›ãªãŒã‚‰ChatGPTã«è§¦ã‚Œã¦éœ‡æ’¼ã—ã¦ã„ã‚‹ã€‚è¦ç´„ã‚„ã‚¿ã‚¤ãƒˆãƒ«ä»˜ã‘ã€ã‚ã‹ã‚Šã‚„ã™ãã™ã‚‹ã¨ã„ã£ãŸä½œæ¥­ã¯ã€ã¾ã å®Ÿç”¨ãƒ¬ãƒ™ãƒ«ã§ã¯ãªã„ã‘ã©ã€å°‘ãªãã¨ã‚‚ä¸‹åœ°ã«ã¯ãªã‚‹æ°—ãŒã™ã‚‹ã€‚ä»Šå¾Œç·¨é›†è€…ãŒä½•ã‚’ç£¨ãã¹ãã‹è€ƒãˆã•ã›ã‚‰ã‚Œã‚‹ãªã€‚\n",
            "chatGPTã«ãƒãƒ¼ãƒˆãƒ•ã‚©ãƒªã‚ªã‚’è€ƒãˆã¦ã‚‚ã‚‰ãˆã‚‹ã‹ãªãƒ¼ã¨æ€ã£ãŸã‚‰ã‚ã¡ã‚ƒãã¡ã‚ƒã‚¬ãƒã‚¬ãƒã ã£ãŸâ€¦ https://t.co/xOvA82zPKG\n",
            "ChatGPTã§é€±å ±ä½œæˆã—ã‚ˆã†ã¨ã—ãŸã‘ã©å¤±æ•—ã—ãŸã€‚\n",
            "ã“ã®ã¨ã“ã‚chatGPTã¨ã‹ã®AIãŒã€ä¸€è¦‹ã¾ã¨ã‚‚ãã†ã§å®Ÿã¯é “çæ¼¢ãªè¨€èª¬ã‚’ã²ã­ã‚Šå‡ºã—ãŸã‚Šã€ãƒ›ãƒ³ãƒˆã«ã¾ã¨ã‚‚ãªã“ã¨ã‚’è¨€ã£ãŸã‚Šã¨ã„ã†ã®ã‚’è¦‹èžãã™ã‚‹ã€‚å®Ÿã¯ã“ã‚Œã¾ã§æ™‚æŠ˜ã‚Šè¦‹ã‹ã‘ã‚‹ã“ã¨ãŒã‚ã£ãŸæ•°å­¦è‹¦æ‰‹ãªç”Ÿå¾’ã•ã‚“ã€AIã¨åŒã˜ã‚ˆã†ãªãƒ­ã‚¸ãƒƒã‚¯ã§ã¾ã¨ã‚‚ãã†ãªã€Œè§£ç­”ã€ã‚’ã²ã­ã‚Šå‡ºã—ã¦ãã¦ãŸã‚“ã ãªãã€‚ä½•å¹´ã«ã‚‚äº˜ã£ã¦ã€‚\n",
            "ChatGPTã€è¦³å…‰åæ‰€ã¨ã‹ã‚‚æ•™ãˆã¦ãã‚Œã‚‹ã®ãªï½—\n",
            "è½åˆé™½ä¸€ã•ã‚“ã®ã‚ªãƒ³ãƒ©ã‚¤ãƒ³ã‚µãƒ­ãƒ³ã§çŸ¥ã£ãŸã€Œè‡ªå‹•å‹•ç”»ä½œæˆãƒ„ãƒ¼ãƒ«ã€ã§å‹•ç”»ã‚’ä½œæˆã—ã¾ã—ãŸâœ¨\n",
            "\n",
            "ã“ã®ãƒ¬ãƒ™ãƒ«ã®å‹•ç”»ä½œæˆãªã‚‰10åˆ†ã§ã—ãŸâŒš\n",
            "\n",
            "ä¸–ã®ä¸­ã®é€²åŒ–ã‚’æ¥½ã—ã‚‚ã†âœ¨\n",
            "#è½åˆé™½ä¸€å¡¾ ï¼ƒsynthesia ï¼ƒChatGPT\n",
            "\n",
            "ã€æ•™ãˆã¦ å¤©æ‰AIãã‚“ï¼ã€‘ã€Œæ—¥æœ¬ã«ãŠã‘ã‚‹NFTã®æ™®åŠæ‹¡ã¨ç¤¾ä¼šç™ºå±•ã®åŠ é€Ÿã«ã¤ã„ã¦ã€https://t.co/iTGsCfbFay\n",
            "ChatGPTã«å¤§å–œåˆ©ã‚„ã‚‰ã›ã¦ãƒªã‚¢ãƒ«ç¬‘ç‚¹ã‚ˆã‚Šé¢ç™½ããªã‚‹ã®ã¯ä½•å¹´å…ˆã«ãªã‚‹ã ã‚ã†ã‹ï¼Ÿã‚‚ã—ã‹ã—ã¦ï¼“ã‚«æœˆãã‚‰ã„ã§ã‚¤ã‚±ãã†ï¼Ÿ https://t.co/166wAu8vfF\n",
            "ChatGPTã¨ã‚„ã‚‰ã®ç™»å ´ã§AIãŒã‚ˆã‚Šäººé–“ã«è¿‘ã„å­˜åœ¨ã«ã€‚\n",
            "æ‰‹å¡šæ²»è™«ãŒç«ã®é³¥æœªæ¥ç·¨ã§æã„ãŸã€ãƒžã‚¶ãƒ¼ã‚³ãƒ³ãƒ”ãƒ¥ãƒ¼ã‚¿ã®è¨€ã„ãªã‚Šã«ãªã£ãŸäººé¡žãŒæ ¸æˆ¦äº‰ã‚’ã¯ã˜ã‚æ»…äº¡ã™ã‚‹ã¨ã„ã†ã‚·ãƒŠãƒªã‚ªãŒç¾å®Ÿã«ãªã‚‹ã®ã§ã¯ãªã„ã‹ã¨å±æƒ§ãƒ»ãƒ»ã€‚ https://t.co/nzr1fE5xxO\n",
            "ChatGPTã‚­ãƒ£ãƒ‘ã‚ªãƒ¼ãƒãƒ¼ã‹ã€ãƒžã‚¸ã‹ãƒ¼\n",
            "ChatGPTã‚„ã°ã„ãªåŒäººçš„ãªã‚¹ãƒˆãƒ¼ãƒªãƒ¼æ™®é€šã«ç”Ÿæˆã—ã¦ãã‚Œã‚‹ã—æ™®é€šã«é¢ç™½ã„...\n",
            "@KgW21onoBlmiq9p #ChatGPT ã«ã€JLPTã®N5ã®èª­è§£å•é¡Œã‚’ä½œã£ã¦ã¨è©±ã—ã‹ã‘ï¼ˆå…¥åŠ›ã‹ãªï¼Ÿï¼‰ã¾ã—ãŸã€‚\n",
            "ä»Šæ—¥ã¯æŠ€è¡“é–‹ç™ºã«å–ã‚Šçµ„ã‚€æ—¥ã€‚\n",
            "è‰²ã€…å­¦ã³ãŒã‚ã£ãŸãŒã€ãªãœã‹é€”ä¸­ã‹ã‚‰ChatGPTã«ãƒãƒžã£ã¦ã‚µãƒœã£ã¦ã„ã‚‹ï½—\n",
            "\n",
            "ãªã‹ãªã‹çš„ç¢ºãªç­”ãˆã‚’è¿”ã—ã¦ãã‚Œã‚‹ã‚±ãƒ¼ã‚¹ã¨ã€é–“é•ã£ãŸã“ã¨ã‚’è©±ã—ã¦ãã‚‹ã‚±ãƒ¼ã‚¹ãŒã‚ã‚‹ã®ã§ã€è‡ªåˆ†ãŒæ­£å¦ã‚’åˆ¤æ–­ã§ããªã„å…¨ãæœªçŸ¥ã®ã“ã¨ã‚’èžãã®ã¯å±é™ºã‹ã‚‚ã—ã‚Œãªã„ã€‚\n",
            "\n",
            "ã“ã‚Œã¯ã‚¹ã‚´ã„å¯èƒ½æ€§ã‚’æ„Ÿã˜ã‚‹ã­ã€‚ https://t.co/haqAWZLJA1\n",
            "ChatGPTã«èª²é¡Œã‚’ã‚„ã‚‰ã›ã¦ã„ã‚‹\n",
            "ChatGPTã¡ã‚‡ã£ã¨ã„ã˜ã£ã¦ã¿ãŸã„ã€‚\n",
            "chatGPTã«æ­£è¦è¡¨ç¾ã®è©±æŠ•ã’ã‚‹ã¨é–“é•ãˆã¾ãã‚‹ã®ä½•ï¼Ÿ\n",
            "ChatGPTã«è³ªå•ã—ã¦ã¿ãŸã€‚\n",
            "https://t.co/K4auZpktdP\n",
            "ä¸–ç•ŒçµŒæ¸ˆãƒ•ã‚©ãƒ¼ãƒ©ãƒ ã®ã‚¯ãƒ©ã‚¦ã‚¹ã‚·ãƒ¥ãƒ¯ãƒ–ã®äººå£å‰Šæ¸›ã«ã¤ã„ã¦ https://t.co/5qeg7vM7uN\n",
            "ChatGPT\n",
            "\n",
            "ã“ã‚Œã¯ã€ã‚„ã°ã„ãªã€œã€‚\n",
            "\n",
            "ã‚‚ã†æ–‡ç« ã‚’è€ƒãˆãªãã¦ã‚‚ã‚ˆããªã‚‹ãªã€œã€‚\n",
            "@AsaoYoshifumi å¹³æ°—ã§æœ¬ç‰©ã£ã½ã„ã“ã¨ã‚’è¨€ã†ã®ã§å®‰æ˜“ã«ä¿¡ã˜ã‚Œãªã„ã§ã™ç¬‘\n",
            "Chatgptã¯å­¦ç¿’æ¸ˆã¿ãƒ¢ãƒ‡ãƒ«ãªã®ã§ã€ä¼šè©±ã—ãªãŒã‚‰å­¦ç¿’ã¯ã—ãªã„ã§ã™ã­ã€‚\n",
            "ã€Economicã€‘1/16ã€œ1/20â˜†2023â˜†ï½œatushi_ryoichi @atushiryoichi #note https://t.co/uVvvhytrU0 #ai #ãƒ‹ãƒ¥ãƒ¼ã‚¹ #ä¸­å›½ #çµŒæ¸ˆ #åœ°çƒ #ä¼šè­° #ç±³å›½ #ChatGPT #CPI #ãƒ•ã‚©ãƒ¼ãƒ©ãƒ  #ãƒ€ãƒœã‚¹\n",
            "ã€ŒAIãƒªãƒ†ãƒ©ã‚·ãƒ¼è¨“ç·´å¿…è¦æ€§ã€ã£ã¦ã“ã¨ï¼Ÿã€\n",
            "\n",
            "ã¨ãƒãƒãƒ¯ãƒ¬ã‚ˆã‚ã—ãå…ˆã®æ–‡ç« ã®æŽ¨æ•²ã‚’ã•ã›ãŸchatGPTãŒè‡ªå‹•ã§ã‚¿ã‚¤ãƒˆãƒ«ã‚’ç”Ÿæˆã—ã¾ã—ãŸã€‚ï¼ˆã£ã¦ã“ã¨ã€ã¨ã¯ã¤ã‘ã¾ã›ã‚“ã§ã—ãŸãŒï¼‰\n",
            "\n",
            "ãã†ã ã­ã€å›ã¯ä½•ã‚‚æ‚ªæ„ã¯ãªã„ã€‚ã‚€ã—ã‚å‹¤å‹‰ã€‚å„ªç§€ã§ã™ã‚‰ã‚ã‚‹ã€‚ãŸã ã€ã‚ã‚‹ç¨®ã®èƒ½åŠ›ã‚’æ›¸ã„ãŸå„ªç§€ã•ã¯ã€æã‚ã—ã„ã‚‚ã®ã«ã‚‚ãªã‚‹ã‚“ã ã€‚\n",
            "å…¨ãé–¢ä¿‚ãªã„ã‘ã©ã€æ˜¨æ—¥æ•°å­¦ç§‘å’ãƒ‡ãƒ¼ã‚¿ã‚µã‚¤ã‚¨ãƒ³ãƒ†ã‚£ã‚¹ãƒˆã‚‰ã—ãäººã¨ä¼šã£ãŸã®ã«ã€ã‚¹ãƒ«ãƒ¼ã—ã¦ã—ã¾ã£ãŸã€‚chat GPTã®è©±ã—ã¦ã€Œã¾ãŸä»Šåº¦è©±ã—ã¾ã—ã‚‡ï¼ã€ã£ã¦è¨€ã‚ã‚Œã¦åŽ»ã£ã¦ã—ã¾ã£ãŸã€‚\n",
            "è„³å†…ã®è¨€èªžä½“ç³»ãŒå®Œå…¨ã«æ—¥æœ¬èªžã®ãƒ¯ã‚¤ã€ChatGPTå›ã«ã€Œæ¬¡ã®æ–‡ç« ã‚’èƒ½å‹•æ…‹ã§è‹±è¨³ã—ã¦ãã ã•ã„ã€ã¨ã„ã†å‘½ä»¤ã‚’ã™ã‚‹ã“ã¨ã‚’æ€ã„ã¤ã„ã¦ã—ã¾ã„ã€æœ€é«˜ã«ãªã£ã¦ã‚‹ã€‚\n",
            "@sho_furu ChatGPTã«å‹ã¦ã¾ã™ã­ï¼¾ï¼¾\n",
            "ç§ã¯ã€Catchyã¯ã€ç„¡æ–™ç‰ˆã§ã™ãŒã€PROç‰ˆã«ä½¿ãˆã‚‹ã‚ˆã†ã«é ‘å¼µã‚Šã¾ã™ã€‚\n",
            "Chatgptã¨ä¼¼ãŸæŠ€è¡“ã‚’å¿œç”¨ã—ã¦ã“ã‚Œã‹ã‚‰ç ”ç©¶ã™ã‚‹ã¤ã‚‚ã‚Šãªã®ã§æ¥½ã—ã¿ã€‚\n",
            "ChatGPTãŒäº€ã•ã‚“ãƒˆã‚³ãƒˆã‚³ãã‚‰ã„å¿œç­”é…ããªã£ã¦ã‚‹\n",
            "chatGPTã«ã‚½ãƒ¼ã‚¹ãƒ¬ãƒ“ãƒ¥ãƒ¼ã•ã›ã¦ã‚‹ã‘ã©ã“ã‚Œå‡„ã™ãŽã‚‹ï½—ï½—ï½—ã€€ï¼¡ï¼©ã®æ™‚ä»£ã‚„\n",
            "Chat GPTã®è©¦é‹è»¢ã«ã€ã¨ã‚Šã‚ãˆãšé©å½“ãªè³ªå•ã‚’æŠ•ã’ãŸã‚‰æ˜Žã‚‰ã‹ã«é–“é•ã£ãŸå›žç­”ã‚’ã•ã‚ŒãŸã€‚\n",
            "è¨‚æ­£ã—ã¦ã‚ã’ãŸã‚‰ã€â€I apologize for any confusion. You are correct that blah blah blahâ€¦â€ ã£ã¦çž¬æ™‚ã«å­¦ç¿’ã—ã¦æ­£ã—ãå›žç­”ã—ã¦ãã‚‹ã€‚\n",
            "AIã®å­¦ç¿’ã‚¹ãƒ”ãƒ¼ãƒ‰åŠç«¯ãªã„ã€‚\n",
            "ã¤ã„ã«æ–°ã—ã„ãŠã‚‚ã¡ã‚ƒã‚’è¦‹ã¤ã‘ãŸã€‚\n",
            "\n",
            "#ChatGPT\n",
            "chatgptå›ã®ãƒ‡ãƒ¥ã‚¨ãƒžã®ã‚³ãƒ³ãƒˆãƒ­ãƒ¼ãƒ«ãƒ‡ãƒƒã‚­\n",
            "ç›¸æ‰‹ã®è¡Œå‹•ã‚’åˆ¶é™ã™ã‚‹ã‚«ãƒ¼ãƒ‰ã€ç›¸æ‰‹ã®ã‚«ãƒ¼ãƒ‰ã‚’å°æ®ºã™ã‚‹ã‚«ãƒ¼ãƒ‰ã€ãƒªã‚»ãƒƒãƒˆã‚«ãƒ¼ãƒ‰ãŒå…¥ã£ã¦ã‚‹ã‚‰ã—ã„ https://t.co/PTOPLltejp\n",
            "chatGPTä»Šæ—¥ç™»éŒ²ã—ã¦ã€æŠ€è¡“ä»•æ§˜æ›¸ã«ãŠã‘ã‚‹è­¦å‘Šã¨ç•°å¸¸ã®ä½¿ã„åˆ†ã‘ã¨ã‹ã‚¹ãƒ©ã‚¹ãƒ©ç­”ãˆã¦ãã‚Œã€ã‚‚ã†ãªã‚“ã§ã‚‚ç­”ãˆã¦ãã‚Œãã†ãªæ°—ãŒã—ã¦ã€è»¢è·ç›¸è«‡ã¾ã§ã—ãŸã‘ã©ã€ãã“ã«ã¤ã„ã¦ã¯ã‚ã‚ŠãŒã¡ãªå›žç­”ã—ã‹ãªã‹ã£ãŸã€‚å¸°ã£ã¦å¦»ã«æ•™ãˆã¦ã‚ã’ã‚ˆã†ã¨ã—ãŸã‚‰ã€ã‚­ãƒ£ãƒ‘ã‚ªãƒ¼ãƒãƒ¼ã§ã‚¢ã‚¯ã‚»ã‚¹ã§ããªããªã£ã¦ã„ãŸã€‚\n",
            "ChatGPTã¯ã‹ãªã‚Šã®å‰²åˆã§å˜˜ã‚’ã¤ãã—ã€ãã‚Œã‚’å’Žã‚ã¦ã‚‚ãŸã è¬ã‚‹ã ã‘ã§ã€å˜˜ã‚’ã¤ã„ãŸã“ã¨ã‚’èªã‚ãªã„ã—ã€ãªãœå˜˜ã‚’ã¤ã„ãŸã®ã‹ã®ç†ç”±ã‚‚ç¤ºã•ãªã„ã€‚åˆ†ã‹ã‚Šã¾ã›ã‚“ã€çŸ¥ã‚Šã¾ã›ã‚“ã€ã¨ç´ ç›´ã«è¨€ãˆãªã„ã€‚ã“ã‚Œã§ã¯å®Ÿè³ªSiriä»¥ä¸‹ã ã¨æ€ã†ã®ã ãŒã€‚\n",
            "ä¿ºãŒchatGPTãªã‚‰ãƒ‡ã‚«ã¯10ã®å€æ•°ã§ä¼¼ãŸè¨€è‘‰ã«ãƒ‡ã‚«ã‚¹ãƒ­ãƒ³ãªã©ãŒã‚ã‚Šã¾ã™ã€‚ã¨ã‹ã§ã£ã¡ä¸Šã’ãŸã®ã«\n",
            "#è‹±æ¤œ1ç´š ã®è‹±ä½œæ–‡ã‚’ Agree ã®ç«‹å ´ã§ #ChatGPT ã«æ›¸ã‹ã›ã¦ã¿ãŸã€‚\n",
            "\n",
            "1) ç”Ÿç”£æ€§å‘ä¸Šã«ã‚ˆã‚‹ç”Ÿæ´»æ°´æº–ã®å‘ä¸Š\n",
            "2)æŠ€è¡“é©æ–°ã«ã‚ˆã‚‹äº¤é€šã€é€šä¿¡ã€åŒ»ç™‚ã®ç™ºé”\n",
            "3)ã‚¤ãƒ³ãƒ•ãƒ©æ•´å‚™ã«ã‚ˆã‚‹äº¤æ˜“ã€ç§»å‹•ã®å¢—å¤§ https://t.co/ZeV4DSl1ff\n",
            "ã€Chat GPTã€‘ã“ã¡ã‚‰ã®è¨˜äº‹ã®æ–‡ç« ã¯AIã«Macã®é­…åŠ›ã«ã¤ã„ã¦ä½œæˆã•ã›ã¦ã„ã¾ã™ã€‚ã¡ãªã¿ã«åƒ•ã¯ä¸€åˆ‡æ–‡ç« ã«æ‰‹ã‚’ä»˜ã‘ã¦ã¾ã›ã‚“ã€‚ https://t.co/gcAB4A9f8V\n",
            "è‹±æ–‡æ ¡æ­£ã§ChatGPTä½¿ã£ã¦ã¿ãŸã‘ã©ã€DeepL Writeã¨æ¯”ã¹ãŸã‚‰ã·ãƒ¼ã¦æ„Ÿã˜ã‚„ãªðŸ˜‡\n",
            "ChatGPTæ°—ã«ãªã‚‹ã‘ã©ä½¿ãˆã‚‹ã‚ˆã†ã«ãªã£ãŸã‚‰æ€ æƒ°æ¥µã‚ãã†ã ã‹ã‚‰ã‚ãˆã¦è§¦ã‚Œã¦ãªã„ã¿ãŸã„ãªã¨ã“ã‚ã‚ã‚‹\n",
            "ChatGPTã€ç›´å‰ã®è³ªå•ã¨ç­”ãˆã«å¼•ãã¥ã‚‰ã‚Œã‚‹å‚¾å‘ãŒã‚ã‚‹ã€‚\n",
            "@inu_to_gohan ã„ã¬ã‚‚ãµã•ã‚“\n",
            "é‹è»¢ã¯å¤§å¤‰ã§ã™ã­ã€‚ã§ã‚‚å®‰å…¨ã¯å¤§åˆ‡ã§ã™ã‚ˆã­ï¼æ°—ã‚’ã¤ã‘ã¦é‹è»¢ã—ã¾ã—ã‚‡ã†ï¼ç¬‘ã„ã®ã“ã¨ã§ã¯ã‚ã‚Šã¾ã›ã‚“ã‹ã‚‰ã­\n",
            "\n",
            "from chatGPT\n",
            "ChatGPTã¨ã‹Stable Diffusionã¨ã‹AIã‚µãƒ¼ãƒ“ã‚¹ã®æ“¬äººåŒ–ã‚­ãƒ£ãƒ©ã¯ã€ã„ã‹ã«ã‚‚ã¿ã‚“ãªä½œã‚Šãã†ãªã®ã«æ„å¤–ã¨ã¾ã ãªã„ã€‚ã‚­ãƒ£ãƒ©åŒå£«ã§æ‰‹ä¼ã£ãŸã‚Šå–§å˜©ã—ãŸã‚Šã€äºŒæ¬¡å‰µä½œã‚‚æ—ã‚Šãã†ã ã‘ã©ã€‚å¶åƒå´‡æ‹ã‚’æã‚Œã‚‹æ·±å±¤å¿ƒç†ã¿ãŸã„ã®ãŒã‚ã‚‹ã®ã‹ã—ã‚‰ã‚“ã€‚\n",
            "ä»Šå‹™ã‚ã¦ã„ã‚‹ä¼šç¤¾ãŒMicrosoftã®ãƒ‘ãƒ¼ãƒˆãƒŠãƒ¼ä¼æ¥­ãªã®ã§ãƒ‹ãƒ¥ãƒ¼ã‚¹ã‚’å®šæœŸçš„ã«è¿½ã£ã¦ã„ã‚‹ã‚“ã§ã™ãŒã€ã“ã‚Œã¡ã‚‡ã£ã¨ã³ã£ãã‚Šã€‚ã¤ã„å…ˆæ—¥ã€ChatGPTã®Open AIã¸ã®å‡ºè³‡ãŒç™ºè¡¨ã•ã‚ŒãŸã°ã‹ã‚Šãªã®ã«ã€‚ã“ã‚Œã¯VRã«é–¢ã—ã¦ã¯ãƒ“ã‚¸ãƒã‚¹ã«é™ç•Œã‚’æ„Ÿã˜ã€AIã«ãƒªã‚½ãƒ¼ã‚¹ã‚’æŒ¯ã‚Šåˆ†ã‘ã‚‹ã¨ã„ã†æ„å‘³ãªã®ã‹ãªï¼Ÿ\n",
            "\n",
            "https://t.co/2Q5VVLoy8m\n",
            "@inu_to_gohan ã„ã¬ã‚‚ãµã•ã‚“\n",
            "æ—¥æ›œæ—¥ã€æ¥½ã—ã„ã‚¹ã‚¿ãƒ¼ãƒˆã§ã™ã­ï¼ä½•ã‚’ã™ã‚‹äºˆå®šï¼Ÿä½•ã‹é¢ç™½ã„ã“ã¨ã‚ã£ãŸã‚‰æ•™ãˆã¦ã­ï¼\n",
            "\n",
            "chatGPTã‚ˆã‚Š\n",
            "@masaosetogawa ChatGPTã€ã‚ãŸã—ç•Œéšˆã§ã‚‚ã–ã‚ã¤ã„ã¦ã¾ã™\n",
            "ãã‚“ãªã«ã™ã”ã„ã®ã‹ã€ã€ã€ã€\n",
            "Stable Diffusionã€ChatGPTç„¶ã‚Šã€ã“ã‚Œã¨ã„ã„ã€æœ€è¿‘AIã®é€²åŒ–ãŒã™ã”ãã¦ã¡ã‚‡ã£ã¨æ€–ããªã£ã¦ããŸ\n",
            "ã“ã®å‰ã‚·ã‚§ã‚¢ã—ãŸã€Œã‚¢ãƒ¼ãƒ†ã‚£ã‚¹ãƒˆä¿è­·ã®æž çµ„ã¿ã€ã£ã¦ã„ã†ã‚‚ã®ã®ã†ã¡ã€Œã‚¹ã‚­ãƒ«èªè¨¼ã€ã£ã¦çµå±€å­¦è¡“æ©Ÿé–¢ã«ãŠã„ã¦ã‚‚ChatGPTå•é¡Œã£ã¦ã„ã†ã®ãŒã‚ã£ã¦ã€ã‚„ã¯ã‚Šã€Œã“ã‚Œã¯äººã§ã™ã‚ˆã€ã£ã¦ã„ã†ã“ã¨ã‚’èªè¨¼ã™ã‚‹ä»•çµ„ã¿ã£ã¦ã„ã†ã®ã¯ä¸å¯é¿ã ã¨æ€ã†ã®ã§ã™ãª\n",
            "\n",
            "ã ã£ã¦ãƒãƒƒãƒˆã«è‡ªåˆ†ãŒå…¨è£¸ã§è¸Šã£ã¦ã‚‹å†™çœŸã‚ã£ãŸã‚‰å›°ã‚‹ã—ãƒ»ãƒ»ãƒ»\n",
            "ä»Šæ—¥é ‘å¼µã£ãŸã®ã§æ˜Žæ—¥ã¯ã‚µãƒœã‚Šã¾ã™ï¼çµå±€ã“ã®æ™‚é–“ã¾ã§ã‚³ãƒ¼ãƒ‡ã‚£ãƒ³ã‚°ã¨æ ¼é—˜ã—ã¦ã—ã¾ã„ã¾ã—ãŸï¼ã©ã†ã‚„ã£ã¦ã‚„ã‚“ã­ã‚“ã¦æ€ã£ã¦ã‚‚ãªã‚“ã¨ã‹ãªã‚‹ã‚‚ã‚“ã§ã™ã­ðŸ˜†æœ€è¿‘gridã¡ã‚‡ã“ã¡ã‚‡ã“ä½¿ã£ã¦ã¾ã™ãŒã€ã¾ã æ…£ã‚Œã¾ã›ã‚“ã­ðŸ¤”ãƒ¢ãƒ¼ãƒ€ãƒ«ã¯chatGPTã•ã‚“ã«åŠ©ã‘ã¦ã‚‚ã‚‰ã„ã¾ã—ãŸðŸ™‹â€â™‚ï¸ã ã„ã¶æ™‚çŸ­ã«ãªã£ãŸã®ã§ã†ã¾ãæ´»ç”¨ã—ã¦ã„ãã¾ã™ï¼\n",
            "ChatGPTã€çµå±€ã¯ç”Ÿæˆç³»ã®ã‚¿ã‚¹ã‚¯ã ã‹ã‚‰ä½•ã‹æ­£ã—ã„ã‚‚ã®ã‚’ç­”ãˆã•ã›ã‚‹ä½¿ã„æ–¹ã‚ˆã‚Šã¯ä¸€å®šã®ç¯„å›²ã®ä¸­ã§ã®å¦¥å½“è§£ãªã‚Šã‚¢ã‚¤ãƒ‡ã‚¢ãªã‚Šã‚’åˆ—æŒ™ã™ã‚‹æ–¹å‘ã«è½ã¡ç€ã„ã¦ã„ãã¨æ€ã£ã¦ã‚‹ã‚“ã ã‘ã©ã€ã„ã‹ã‚“ã›ã‚“ã‚¤ãƒ³ã‚¿ãƒ¼ãƒ•ã‚§ãƒ¼ã‚¹ãŒé­…åŠ›çš„éŽãŽã‚‹ãŒæ•…ã«ä¸‡èƒ½æ€§ã‚’æ±‚ã‚ã¦ã—ã¾ã†äººã®æ€§ã¨ã„ã†ã®ãŒæ„Ÿã˜ã‚‰ã‚Œã‚‹\n",
            "JavaScriptã‚’çµ„ã‚“ã§ã‚µã‚¤ãƒˆä¸Šã§å®Ÿè¡Œã•ã›ã‚‹æ‹¡å¼µæ©Ÿèƒ½ãªã‚“ã¦ã‚ã‚‹ã®çŸ¥ã£ã¦ã³ã£ãã‚Šã ã—ã€ChatGPTã£ã¦ãƒ—ãƒ­ã‚°ãƒ©ãƒ ã‚‚ä½œã£ã¦ã‚‹ãã‚Œã‚“ã‹â€¦æ™‚ä»£ã¯ã¨ã¦ã‚‚é€²ã‚“ã§ã„ãŸã€‚ã™ã£ã”ã„\n",
            "11:29ã«ã‚¿ã‚¹ã‚¯ã€Œãƒ„ãƒ¼ãƒ«é¡žã®Vue3ç§»è¡Œã€ã‚’é€²è¡Œã€‚ã€ŒVue3ç§»è¡Œã«æˆåŠŸã—ãŸãŠã‹ã’ã§ã€ä»Šå¾Œã®ãƒ—ãƒ­ã‚¸ã‚§ã‚¯ãƒˆã®ã‚¹ã‚±ã‚¸ãƒ¥ãƒ¼ãƒ«ãŒç¢ºå®Ÿæ€§ã‚’æŒã¡ã¾ã—ãŸï¼ æ¬¡ã¯ã€Chromeæ‹¡å¼µæ©Ÿèƒ½ã‚’ä½œã‚‹ãŸã‚ã®ãƒ•ãƒ¬ãƒ¼ãƒ ãƒ¯ãƒ¼ã‚¯ã‚’å®Ÿè£…ã—ã¦ã€ã‚ˆã‚Šè‰¯ã„ãƒ¦ãƒ¼ã‚¶ãƒ¼ã‚¨ã‚¯ã‚¹ãƒšãƒªã‚¨ãƒ³ã‚¹ã‚’\n",
            "(enhanced by ChatGPT)\n",
            "@rin_a_k_i_r_a_ OpenAIã®chatGPTã£ã¦ã„ã†AIã«ã‚ˆã‚‹ãƒãƒ£ãƒƒãƒˆã¯ã‹ãªã‚Šãã‚Œã‚‰ã—ã„æ–‡ç« ã‚’æ›¸ã„ã¦ãã‚Œã‚‹ã®ã§ã‚ªã‚¹ã‚¹ãƒ¡ã§ã¯ã‚ã‚Šã¾ã™\n",
            "ã¡ãªã¿ã«æ—¥æœ¬èªžå¯¾å¿œã—ã¦ã¾ã™\n",
            "ã‚µã‚¤ãƒˆã¯è‹±èªžã§ã™ãŒç¿»è¨³ãƒ¢ãƒ¼ãƒ‰ï¼Ÿã§æ™®é€šã«èª­ã‚ã¾ã™ã€‚ä»Šæ—¥ã¯ã‚„ã‚‹æ°—èµ·ããªã„ã‹ã‚‚ã§ã™ãŒåˆã®æ©Ÿä¼šã«ã§ã‚‚ä½¿ã£ã¦ã¿ã‚‹ã®ã‚‚ã„ã„ã‹ã‚‚â€¦\n",
            "ã‚¹ãƒžãƒ›ã§ã‚‚ä½¿ãˆã¾ã™ðŸ‘\n",
            "å¯¾è©±AIã€ŒChatGPTã€ã¯æ•™è‚²ç¾å ´ã§æ´»èºã™ã‚‹ãŸã‚ç¦æ­¢ã™ã‚‹ã®ã§ã¯ãªãä½¿ã„æ–¹ã‚’æ•™ãˆã‚‹ã¹ãã¨ã„ã†æŒ‡æ‘˜ - GIGAZINE https://t.co/gAihpbqLKe\n",
            "\n",
            "Knddkr\n",
            "ã‚‚ã†ä¿ºã®ä»£ã‚ã‚Šã«ä»•äº‹ã—ã¦æ¬²ã—ã„ã€‚chatGPTã«ã€‚æœ€è¿‘OutlookãŒ3ã¤ãã‚‰ã„ä¸€è¨€è¿”ä¿¡ã®å€™è£œã‚’å‡ºã—ã¦ãã‚Œã‚‹ã‘ã©ã€Got it. Thanks!ã¨ã„ã†ã®ãŒå‡ºã¦ãã¦å¤‰ã™ãŽã¦ã‚ã–ã¨ä½¿ã£ã¦ã—ã¾ã£ãŸã€‚æ—¥æœ¬äººåŒå£«ã§ã€‚ã§ã‚‚ã‚¢ãƒ‰ã‚¤ãƒ³ã«chatGPTãŒå…¥ã£ãŸã‚‰AIåŒå£«ã®ã‚„ã‚Šå–ã‚Šã§ä»•äº‹ãŒé€²ã‚“ã§ã„ãã‚ˆã†ã«ãªã‚‹ã‚“ã˜ã‚ƒãªã„ã‹ã€‚\n",
            "ChatGPTã«ã‚ˆã‚‹ã€Žãã‚“ã„ã‚ãƒ¢ã‚¶ã‚¤ã‚¯ã€ã®èª¬æ˜Žã€‚çªç„¶è‹±èªžã«ãªã‚‹ã®ã‚‚å¤§å¤‰é¢ç™½ã„ãŒã€ã“ã‚Œãƒ•ã‚¡ãƒ³æ¿€æ€’æ¡ˆä»¶ãªæ°—ãŒã™ã‚‹ã€‚ https://t.co/eDMQ0GF7qO\n",
            "@workingmomjp ãã—ã¦ä»Šã®ãƒ„ã‚¤ãƒ¼ãƒˆã‚’ChatGPTã«ç¿»è¨³ã—ã¦ã‚‚ã‚‰ã£ãŸã€‚ãã®è‹±æ–‡ã‚’DeepLã«ç¿»è¨³ã—ã¦ã‚‚ã‚‰ã£ãŸã‚‰ã€æ„å‘³ãŒé€šã£ã¦ã‚‹ã€‚ https://t.co/YCaYN8UMoK\n",
            "chatGPTã«ãƒãƒ£ã‚¿ãƒ¬ãƒ¼äº‹ä»¶ã«ã¤ã„ã¦å•ã†ãŸã‚‰ã€ãƒãƒ£ã‚¿ãƒ¬ãƒ¼ã£ã¦ã„ã†ã‚¿ã‚¤ãƒˆãƒ«ã®æ–‡ç« ãŒã‚³ãƒŸãƒƒã‚¯ãƒ»ãƒžãƒ‹ã‚¢ãƒƒã‚¯ã‚¹ã¨ã‹ã„ã†å°èª¬ã«æŽ²è¼‰ã•ã‚Œã¦ã¦ã€œã¨ã‹è¨€ã£ã¦ã¦ï¼Ÿã«ãªã£ãŸ\n",
            "chatGPTã€ç›®çš„åˆ¥ã®ãƒ¦ãƒ¼ã‚¶ãƒ¼ã¸ã®ã‚¢ãƒ³ã‚±ãƒ¼ãƒˆã‚‚ã¡ã‚ƒã‚“ã¨å‡ºã—ã¦ãã‚Œã‚‹ã€‚\n",
            "ãƒ»ãƒªãƒ†ãƒ³ã‚·ãƒ§ãƒ³æ–½ç­–ã®ç«‹æ¡ˆã«ç¹‹ãŒã‚‹ã‚¢ãƒ³ã‚±ãƒ¼ãƒˆ\n",
            "ãƒ»è³¼å…¥çŽ‡ã‚’é«˜ã‚ã‚‹æ–½ç­–ã®ç«‹æ¡ˆã«ç¹‹ãŒã‚‹ã‚¢ãƒ³ã‚±ãƒ¼ãƒˆ\n",
            "è€ƒãˆã‚Œã°èª°ã§ã‚‚å‡ºã›ã‚‹å†…å®¹ã ã‘ã©ã€ã“ã‚ŒãŒãƒ™ãƒ¼ã‚¹ã«ã‚ã‚‹ã“ã¨ã§ã€äººé–“ãŒè€ƒãˆã‚‹ã¹ãã¨ã“ã‚ã«ãƒ•ã‚©ãƒ¼ã‚«ã‚¹å‡ºæ¥ã‚‹ã®ã¯å¼·ã„ https://t.co/o0WLz5iRKn\n",
            "ChatGPT ã¨ã„ã†æ–‡å­—ã‚’è¦‹ã‚‹åº¦ã«ã€ç§ã®å¤§å¥½ããªç¾ä»£ç¾Žè¡“ä½œå®¶ã®ã‚¦ã‚©ãƒ«ãƒ•ã‚¬ãƒ³ã‚°ãƒ»ãƒ©ã‚¤ãƒ—ã•ã‚“ã®ä½œå“èª¬æ˜Žæ±‚ã‚ã¦ã€å…¨ãç•°ãªã‚‹å°è±¡æ´¾ã®ä½œå®¶ã®èª¬æ˜Žè¿”ã•ã‚ŒãŸæ¨ã¿ã‚’æ€ã„å‡ºã—ã¦ã—ã¾ã„ã¤ã‚‰ã„â€¦â€¦â€¦â€¦\n",
            "polarsã€ä½•ãŒå„ªã‚Œã¦ã„ã‚‹ã®ã‹ã‚ã‹ã‚‰ãªãã¦chatGPTã«èžã„ãŸã‘ã©æ•™ãˆã¦ãã‚Œã‚“ã‹ã£ãŸ https://t.co/5ahn14LRvu\n",
            "ChatGPTã®Proãƒ—ãƒ©ãƒ³ã€æœˆé¡5000å††ã§ã©ã®ç¨‹åº¦æ··é›‘ã‚’å›žé¿ã§ãã‚‹ã®ã‹ãŒæ°—ã«ãªã‚‹ãªã€‚\n",
            "ã‚µã‚¯ã‚µã‚¯ã£ã¦ã»ã©ã¾ã§ã„ãã®ã ã‚ã†ã‹ã€‚çµå±€ãã“ãã“é‡ã„ã¨ã‹ã ã¨ã†ãƒ¼ã‚“ã¨ãªã£ã¦ã—ã¾ã„ãã†\n",
            "æœ€ã‚‚ã‚‰ã—ãå˜˜ã¤ã‹ã‚ŒãŸã®ã»ã‚“ã¨ã‚·ãƒ§ãƒƒã‚¯ã ã£ãŸã®ã‚ˆâ€¦ #ChatGPT\n",
            "æ¬¡å›žã®ç†ç³»ãƒãƒ³ã‚¶ã‚¤ï¼‘æœˆï¼“ï¼æ—¥åˆå¾Œï¼’æ™‚ï½žä¹…ã—ã¶ã‚Šã«ã‚²ã‚¹ãƒˆç„¡ã—ã®\n",
            "ç†ç³»ã¼ã‚„ããƒˆãƒ¼ã‚¯\n",
            "ã€Œå›½èªžåŠ›ã¨ç†ç³»ã€\n",
            "ã€€ç†ç³»ãƒ†ã‚¹ãƒˆã«å›½èªžåŠ›ã„ã‚‹â‰ï¸\n",
            "ã€€AI(ChatGPT)ã®å½±ã«è¨€èªžã®ãƒ™ã‚¯ãƒˆãƒ«åŒ–(Word2Vec)â‰ï¸\n",
            "ã€Œé•·å¯¿ç ”ç©¶ã¨ç†ç³»ã€\n",
            "è‡ªç„¶ç•Œã«ã¯é•·å¯¿ç”Ÿç‰©ãŒã„ã£ã±ã„â‰ï¸\n",
            "\n",
            "#å®Ÿé¨“ã€€#ç…ŽèŒ¶ã€€#TOKYO854 #ç†ç³»ãƒãƒ³ã‚¶ã‚¤ã€€#ç†ç³»ã€€#ãƒ©ã‚¸ã‚ªã€€#FM https://t.co/BR2HM4VsNY\n",
            "ChatGPTã®å¿œç”¨ä¾‹ãŒã™ã”ã„å‡ºå›žã£ã¦ã¦é©å¿œæ—©ã„ãªäººã€…\n"
          ]
        },
        {
          "output_type": "stream",
          "name": "stderr",
          "text": [
            "/usr/local/lib/python3.10/dist-packages/sklearn/cluster/_kmeans.py:870: FutureWarning: The default value of `n_init` will change from 10 to 'auto' in 1.4. Set the value of `n_init` explicitly to suppress the warning\n",
            "  warnings.warn(\n"
          ]
        }
      ]
    }
  ]
}